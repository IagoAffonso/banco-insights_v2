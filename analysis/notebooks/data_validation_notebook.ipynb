{
 "cells": [
  {
   "cell_type": "markdown",
   "metadata": {},
   "source": [
    "# 🔍 BACEN Data Validation & Calculation Audit\n",
    "## Comprehensive Step-by-Step Analysis for Banco Insights 2.0\n",
    "\n",
    "**Purpose**: Identify discrepancies between CSV source data and database/API calculations\n",
    "\n",
    "**Issue**: System reports R$ 148.3B total assets vs expected R$ 16.9T (16,906.58B)\n",
    "\n",
    "**Date**: August 2025\n",
    "\n",
    "---"
   ]
  },
  {
   "cell_type": "markdown",
   "metadata": {},
   "source": [
    "## 📋 Step 1: Environment Setup & Data Import"
   ]
  },
  {
   "cell_type": "code",
   "execution_count": 1,
   "metadata": {},
   "outputs": [
    {
     "name": "stdout",
     "output_type": "stream",
     "text": [
      "✅ Libraries imported successfully\n",
      "📅 Analysis started at: 2025-08-10 21:22:21.372495\n"
     ]
    }
   ],
   "source": [
    "import pandas as pd\n",
    "import numpy as np\n",
    "import psycopg2\n",
    "from datetime import datetime\n",
    "import os\n",
    "from dotenv import load_dotenv\n",
    "import warnings\n",
    "warnings.filterwarnings('ignore')\n",
    "\n",
    "# Load environment variables for database connection\n",
    "load_dotenv('/Users/iagoaffonso/code/IagoAffonso/banco-insights-2.0/supabase_config.env')\n",
    "\n",
    "print(\"✅ Libraries imported successfully\")\n",
    "print(f\"📅 Analysis started at: {datetime.now()}\")"
   ]
  },
  {
   "cell_type": "markdown",
   "metadata": {},
   "source": [
    "## 📊 Step 2: Load Raw CSV Data"
   ]
  },
  {
   "cell_type": "code",
   "execution_count": 2,
   "metadata": {},
   "outputs": [
    {
     "name": "stdout",
     "output_type": "stream",
     "text": [
      "📁 Loading data from: /Users/iagoaffonso/code/IagoAffonso/banco-insights-2.0/bacen_project_v1/data/financial_metrics.csv\n",
      "📏 File size: 1110.75 MB\n",
      "\n",
      "📋 CSV Structure (first 1000 rows):\n",
      "Columns: ['TipoInstituicao', 'CodInst', 'AnoMes', 'NomeRelatorio', 'NumeroRelatorio', 'Grupo', 'Conta', 'NomeColuna', 'DescricaoColuna', 'Saldo', 'AnoMes_M', 'AnoMes_Q', 'AnoMes_Y', 'NomeRelatorio_Grupo_Coluna', 'NomeInstituicao']\n",
      "Shape: (1000, 15)\n",
      "\n",
      "Data types:\n",
      "TipoInstituicao                 int64\n",
      "CodInst                        object\n",
      "AnoMes                         object\n",
      "NomeRelatorio                  object\n",
      "NumeroRelatorio                 int64\n",
      "Grupo                          object\n",
      "Conta                           int64\n",
      "NomeColuna                     object\n",
      "DescricaoColuna                object\n",
      "Saldo                         float64\n",
      "AnoMes_M                       object\n",
      "AnoMes_Q                       object\n",
      "AnoMes_Y                        int64\n",
      "NomeRelatorio_Grupo_Coluna     object\n",
      "NomeInstituicao                object\n",
      "dtype: object\n"
     ]
    }
   ],
   "source": [
    "# Path to the main CSV file containing financial metrics\n",
    "csv_path = '/Users/iagoaffonso/code/IagoAffonso/banco-insights-2.0/bacen_project_v1/data/financial_metrics.csv'\n",
    "\n",
    "print(f\"📁 Loading data from: {csv_path}\")\n",
    "print(f\"📏 File size: {os.path.getsize(csv_path) / (1024*1024):.2f} MB\")\n",
    "\n",
    "# Load with sample first to understand structure\n",
    "sample_df = pd.read_csv(csv_path, nrows=1000)\n",
    "print(f\"\\n📋 CSV Structure (first 1000 rows):\")\n",
    "print(f\"Columns: {list(sample_df.columns)}\")\n",
    "print(f\"Shape: {sample_df.shape}\")\n",
    "print(f\"\\nData types:\")\n",
    "print(sample_df.dtypes)"
   ]
  },
  {
   "cell_type": "code",
   "execution_count": 3,
   "metadata": {},
   "outputs": [
    {
     "name": "stdout",
     "output_type": "stream",
     "text": [
      "🔄 Loading complete financial_metrics dataset...\n",
      "✅ Complete dataset loaded:\n",
      "Shape: (2682551, 15)\n",
      "Memory usage: 2856.80 MB\n",
      "\n",
      "🔍 First 5 rows:\n"
     ]
    },
    {
     "data": {
      "text/html": [
       "<div>\n",
       "<style scoped>\n",
       "    .dataframe tbody tr th:only-of-type {\n",
       "        vertical-align: middle;\n",
       "    }\n",
       "\n",
       "    .dataframe tbody tr th {\n",
       "        vertical-align: top;\n",
       "    }\n",
       "\n",
       "    .dataframe thead th {\n",
       "        text-align: right;\n",
       "    }\n",
       "</style>\n",
       "<table border=\"1\" class=\"dataframe\">\n",
       "  <thead>\n",
       "    <tr style=\"text-align: right;\">\n",
       "      <th></th>\n",
       "      <th>TipoInstituicao</th>\n",
       "      <th>CodInst</th>\n",
       "      <th>AnoMes</th>\n",
       "      <th>NomeRelatorio</th>\n",
       "      <th>NumeroRelatorio</th>\n",
       "      <th>Grupo</th>\n",
       "      <th>Conta</th>\n",
       "      <th>NomeColuna</th>\n",
       "      <th>DescricaoColuna</th>\n",
       "      <th>Saldo</th>\n",
       "      <th>AnoMes_M</th>\n",
       "      <th>AnoMes_Q</th>\n",
       "      <th>AnoMes_Y</th>\n",
       "      <th>NomeRelatorio_Grupo_Coluna</th>\n",
       "      <th>NomeInstituicao</th>\n",
       "    </tr>\n",
       "  </thead>\n",
       "  <tbody>\n",
       "    <tr>\n",
       "      <th>0</th>\n",
       "      <td>2</td>\n",
       "      <td>C0051389</td>\n",
       "      <td>2014-12-01</td>\n",
       "      <td>Demonstração de Resultado</td>\n",
       "      <td>4</td>\n",
       "      <td>Resultado de Intermediação Financeira - Receit...</td>\n",
       "      <td>78204</td>\n",
       "      <td>Rendas de Operações de Arrendamento Mercantil ...</td>\n",
       "      <td>[71200004]+[81940000]</td>\n",
       "      <td>819733.58</td>\n",
       "      <td>2014-12</td>\n",
       "      <td>2014Q4</td>\n",
       "      <td>2014</td>\n",
       "      <td>Demonstração de Resultado_Resultado de Interme...</td>\n",
       "      <td>BONCRED</td>\n",
       "    </tr>\n",
       "    <tr>\n",
       "      <th>1</th>\n",
       "      <td>2</td>\n",
       "      <td>C0051389</td>\n",
       "      <td>2014-12-01</td>\n",
       "      <td>Demonstração de Resultado</td>\n",
       "      <td>4</td>\n",
       "      <td>Resultado de Intermediação Financeira - Receit...</td>\n",
       "      <td>78205</td>\n",
       "      <td>Rendas de Operações com TVM \\n(a3)</td>\n",
       "      <td>[71400000]+[71500003]-[71580009]+[71940003]+[7...</td>\n",
       "      <td>828141.53</td>\n",
       "      <td>2014-12</td>\n",
       "      <td>2014Q4</td>\n",
       "      <td>2014</td>\n",
       "      <td>Demonstração de Resultado_Resultado de Interme...</td>\n",
       "      <td>BONCRED</td>\n",
       "    </tr>\n",
       "    <tr>\n",
       "      <th>2</th>\n",
       "      <td>2</td>\n",
       "      <td>C0051389</td>\n",
       "      <td>2014-12-01</td>\n",
       "      <td>Demonstração de Resultado</td>\n",
       "      <td>4</td>\n",
       "      <td>Resultado de Intermediação Financeira - Receit...</td>\n",
       "      <td>78206</td>\n",
       "      <td>Rendas de Operações com Instrumentos Financeir...</td>\n",
       "      <td>[71580009]+[81550005]+[71990266]+[81830268]</td>\n",
       "      <td>0.00</td>\n",
       "      <td>2014-12</td>\n",
       "      <td>2014Q4</td>\n",
       "      <td>2014</td>\n",
       "      <td>Demonstração de Resultado_Resultado de Interme...</td>\n",
       "      <td>BONCRED</td>\n",
       "    </tr>\n",
       "    <tr>\n",
       "      <th>3</th>\n",
       "      <td>2</td>\n",
       "      <td>C0051389</td>\n",
       "      <td>2014-12-01</td>\n",
       "      <td>Demonstração de Resultado</td>\n",
       "      <td>4</td>\n",
       "      <td>Resultado de Intermediação Financeira - Receit...</td>\n",
       "      <td>78207</td>\n",
       "      <td>Resultado de Operações de Câmbio \\n(a5)</td>\n",
       "      <td>[71300007]+[81400007]</td>\n",
       "      <td>0.00</td>\n",
       "      <td>2014-12</td>\n",
       "      <td>2014Q4</td>\n",
       "      <td>2014</td>\n",
       "      <td>Demonstração de Resultado_Resultado de Interme...</td>\n",
       "      <td>BONCRED</td>\n",
       "    </tr>\n",
       "    <tr>\n",
       "      <th>4</th>\n",
       "      <td>2</td>\n",
       "      <td>C0051389</td>\n",
       "      <td>2014-12-01</td>\n",
       "      <td>Demonstração de Resultado</td>\n",
       "      <td>4</td>\n",
       "      <td>Resultado de Intermediação Financeira - Receit...</td>\n",
       "      <td>78231</td>\n",
       "      <td>Rendas de Aplicações Compulsórias \\n(a6)</td>\n",
       "      <td>[71955005]+[71960007]+[71965002]+[71990125]+[8...</td>\n",
       "      <td>0.00</td>\n",
       "      <td>2014-12</td>\n",
       "      <td>2014Q4</td>\n",
       "      <td>2014</td>\n",
       "      <td>Demonstração de Resultado_Resultado de Interme...</td>\n",
       "      <td>BONCRED</td>\n",
       "    </tr>\n",
       "  </tbody>\n",
       "</table>\n",
       "</div>"
      ],
      "text/plain": [
       "   TipoInstituicao   CodInst      AnoMes              NomeRelatorio  \\\n",
       "0                2  C0051389  2014-12-01  Demonstração de Resultado   \n",
       "1                2  C0051389  2014-12-01  Demonstração de Resultado   \n",
       "2                2  C0051389  2014-12-01  Demonstração de Resultado   \n",
       "3                2  C0051389  2014-12-01  Demonstração de Resultado   \n",
       "4                2  C0051389  2014-12-01  Demonstração de Resultado   \n",
       "\n",
       "   NumeroRelatorio                                              Grupo  Conta  \\\n",
       "0                4  Resultado de Intermediação Financeira - Receit...  78204   \n",
       "1                4  Resultado de Intermediação Financeira - Receit...  78205   \n",
       "2                4  Resultado de Intermediação Financeira - Receit...  78206   \n",
       "3                4  Resultado de Intermediação Financeira - Receit...  78207   \n",
       "4                4  Resultado de Intermediação Financeira - Receit...  78231   \n",
       "\n",
       "                                          NomeColuna  \\\n",
       "0  Rendas de Operações de Arrendamento Mercantil ...   \n",
       "1                 Rendas de Operações com TVM \\n(a3)   \n",
       "2  Rendas de Operações com Instrumentos Financeir...   \n",
       "3            Resultado de Operações de Câmbio \\n(a5)   \n",
       "4           Rendas de Aplicações Compulsórias \\n(a6)   \n",
       "\n",
       "                                     DescricaoColuna      Saldo AnoMes_M  \\\n",
       "0                              [71200004]+[81940000]  819733.58  2014-12   \n",
       "1  [71400000]+[71500003]-[71580009]+[71940003]+[7...  828141.53  2014-12   \n",
       "2        [71580009]+[81550005]+[71990266]+[81830268]       0.00  2014-12   \n",
       "3                              [71300007]+[81400007]       0.00  2014-12   \n",
       "4  [71955005]+[71960007]+[71965002]+[71990125]+[8...       0.00  2014-12   \n",
       "\n",
       "  AnoMes_Q  AnoMes_Y                         NomeRelatorio_Grupo_Coluna  \\\n",
       "0   2014Q4      2014  Demonstração de Resultado_Resultado de Interme...   \n",
       "1   2014Q4      2014  Demonstração de Resultado_Resultado de Interme...   \n",
       "2   2014Q4      2014  Demonstração de Resultado_Resultado de Interme...   \n",
       "3   2014Q4      2014  Demonstração de Resultado_Resultado de Interme...   \n",
       "4   2014Q4      2014  Demonstração de Resultado_Resultado de Interme...   \n",
       "\n",
       "  NomeInstituicao  \n",
       "0         BONCRED  \n",
       "1         BONCRED  \n",
       "2         BONCRED  \n",
       "3         BONCRED  \n",
       "4         BONCRED  "
      ]
     },
     "execution_count": 3,
     "metadata": {},
     "output_type": "execute_result"
    }
   ],
   "source": [
    "# Load the complete dataset\n",
    "print(\"🔄 Loading complete financial_metrics dataset...\")\n",
    "financial_metrics = pd.read_csv(csv_path)\n",
    "\n",
    "print(f\"✅ Complete dataset loaded:\")\n",
    "print(f\"Shape: {financial_metrics.shape}\")\n",
    "print(f\"Memory usage: {financial_metrics.memory_usage(deep=True).sum() / (1024*1024):.2f} MB\")\n",
    "\n",
    "# Display first few rows\n",
    "print(\"\\n🔍 First 5 rows:\")\n",
    "financial_metrics.head()"
   ]
  },
  {
   "cell_type": "markdown",
   "metadata": {},
   "source": [
    "## 🔎 Step 3: Explore Data Structure & Key Columns"
   ]
  },
  {
   "cell_type": "code",
   "execution_count": 4,
   "metadata": {},
   "outputs": [
    {
     "name": "stdout",
     "output_type": "stream",
     "text": [
      "🔍 Analyzing key columns for filtering:\n",
      "\n",
      "1. NomeRelatorio unique values:\n",
      "NomeRelatorio\n",
      "Demonstração de Resultado                                            2062879\n",
      "Resumo                                                                569848\n",
      "Carteira de crédito ativa - quantidade de clientes e de operações      49824\n",
      "Name: count, dtype: int64\n",
      "\n",
      "2. AnoMes_Q unique values (last 10):\n",
      "AnoMes_Q\n",
      "2019Q3    52460\n",
      "2021Q4    52436\n",
      "2020Q3    51884\n",
      "2019Q4    51864\n",
      "2021Q2    51851\n",
      "2020Q4    51810\n",
      "2021Q3    51806\n",
      "2021Q1    51730\n",
      "2020Q1    51660\n",
      "2020Q2    51657\n",
      "Name: count, dtype: int64\n",
      "\n",
      "3. NomeColuna containing 'Ativo Total':\n",
      "['Ativo Total']\n",
      "\n",
      "4. NomeColuna containing 'Carteira de Crédito':\n",
      "['Carteira de Crédito Classificada']\n"
     ]
    }
   ],
   "source": [
    "# Analyze key columns for filtering\n",
    "print(\"🔍 Analyzing key columns for filtering:\")\n",
    "print(\"\\n1. NomeRelatorio unique values:\")\n",
    "print(financial_metrics['NomeRelatorio'].value_counts())\n",
    "\n",
    "print(\"\\n2. AnoMes_Q unique values (last 10):\")\n",
    "print(financial_metrics['AnoMes_Q'].value_counts().tail(10))\n",
    "\n",
    "print(\"\\n3. NomeColuna containing 'Ativo Total':\")\n",
    "ativo_columns = financial_metrics[financial_metrics['NomeColuna'].str.contains('Ativo Total', na=False)]['NomeColuna'].unique()\n",
    "print(ativo_columns)\n",
    "\n",
    "print(\"\\n4. NomeColuna containing 'Carteira de Crédito':\")\n",
    "credit_columns = financial_metrics[financial_metrics['NomeColuna'].str.contains('Carteira de Crédito', na=False)]['NomeColuna'].unique()\n",
    "print(credit_columns)"
   ]
  },
  {
   "cell_type": "markdown",
   "metadata": {},
   "source": [
    "## 📈 Step 4: Replicate User's Calculation (Ativo Total)"
   ]
  },
  {
   "cell_type": "code",
   "execution_count": 6,
   "metadata": {},
   "outputs": [
    {
     "name": "stdout",
     "output_type": "stream",
     "text": [
      "🧮 Replicating user's Ativo Total calculation:\n",
      "Filter: NomeRelatorio == 'Resumo' AND AnoMes_Q == '2024Q3' AND NomeColuna == 'Ativo Total'\n",
      "📊 After NomeRelatorio filter: 569,848 rows\n",
      "📊 After AnoMes_Q filter: 11,160 rows\n",
      "📊 After NomeColuna filter: 1,395 rows\n",
      "\n",
      "💰 ATIVO TOTAL 2024Q3: 16,906,576,545,732.06\n",
      "💰 In billions: 16.91 trillion\n",
      "💰 In billions: 16906.58 billion\n",
      "\n",
      "🔍 Sample of filtered data:\n",
      "          CodInst         Saldo\n",
      "2256996  C0031859  2.820279e+10\n",
      "2257002  C0031873  1.679698e+10\n",
      "2257008  C0031976  5.561670e+10\n",
      "2257014  C0032119  2.324477e+10\n",
      "2257020  C0041856  6.744691e+10\n",
      "2257026  C0049906  2.442453e+12\n",
      "2257032  C0049944  6.158789e+11\n",
      "2257038  C0050304  2.554887e+10\n",
      "2257044  C0050524  4.311332e+08\n",
      "2257050  C0050940  7.218484e+09\n"
     ]
    }
   ],
   "source": [
    "# Replicate the exact calculation provided by the user\n",
    "print(\"🧮 Replicating user's Ativo Total calculation:\")\n",
    "print(\"Filter: NomeRelatorio == 'Resumo' AND AnoMes_Q == '2024Q3' AND NomeColuna == 'Ativo Total'\")\n",
    "\n",
    "# Step by step filtering\n",
    "step1 = financial_metrics[financial_metrics['NomeRelatorio'] == 'Resumo']\n",
    "print(f\"📊 After NomeRelatorio filter: {step1.shape[0]:,} rows\")\n",
    "\n",
    "step2 = step1[step1['AnoMes_Q'] == '2024Q3']\n",
    "print(f\"📊 After AnoMes_Q filter: {step2.shape[0]:,} rows\")\n",
    "\n",
    "step3 = step2[step2['NomeColuna'] == 'Ativo Total']\n",
    "print(f\"📊 After NomeColuna filter: {step3.shape[0]:,} rows\")\n",
    "\n",
    "# Calculate the sum\n",
    "sumativo_total_2024Q3 = step3['Saldo'].sum()\n",
    "print(f\"\\n💰 ATIVO TOTAL 2024Q3: {sumativo_total_2024Q3:,.2f}\")\n",
    "print(f\"💰 In billions: {sumativo_total_2024Q3/1_000_000_000_000:.2f} trillion\")\n",
    "print(f\"💰 In billions: {sumativo_total_2024Q3/1_000_000_000:.2f} billion\")\n",
    "\n",
    "# Show sample of the filtered data\n",
    "print(\"\\n🔍 Sample of filtered data:\")\n",
    "print(step3[['CodInst', 'Saldo']].head(10))"
   ]
  },
  {
   "cell_type": "markdown",
   "metadata": {},
   "source": [
    "## 💳 Step 5: Replicate User's Calculation (Carteira de Crédito)"
   ]
  },
  {
   "cell_type": "code",
   "execution_count": 7,
   "metadata": {},
   "outputs": [
    {
     "name": "stdout",
     "output_type": "stream",
     "text": [
      "🧮 Replicating user's Carteira de Crédito calculation:\n",
      "Filter: NomeRelatorio == 'Resumo' AND AnoMes_Q == '2024Q3' AND NomeColuna == 'Carteira de Crédito Classificada'\n",
      "📊 Final filtered rows: 1,395\n",
      "\n",
      "💳 CARTEIRA DE CRÉDITO 2024Q3: 6,709,275,484,424.04\n",
      "💳 In trillions: 6.71 trillion\n",
      "💳 In billions: 6709.28 billion\n",
      "\n",
      "✅ User expected: 6,709,275,484,424.04\n",
      "🔍 Difference: 0.00 (✅ MATCH)\n"
     ]
    }
   ],
   "source": [
    "# Replicate credit portfolio calculation\n",
    "print(\"🧮 Replicating user's Carteira de Crédito calculation:\")\n",
    "print(\"Filter: NomeRelatorio == 'Resumo' AND AnoMes_Q == '2024Q3' AND NomeColuna == 'Carteira de Crédito Classificada'\")\n",
    "\n",
    "# Step by step filtering\n",
    "credit_step1 = financial_metrics[financial_metrics['NomeRelatorio'] == 'Resumo']\n",
    "credit_step2 = credit_step1[credit_step1['AnoMes_Q'] == '2024Q3']\n",
    "credit_step3 = credit_step2[credit_step2['NomeColuna'] == 'Carteira de Crédito Classificada']\n",
    "\n",
    "print(f\"📊 Final filtered rows: {credit_step3.shape[0]:,}\")\n",
    "\n",
    "# Calculate the sum\n",
    "sum_carteira_credito_2024Q3 = credit_step3['Saldo'].sum()\n",
    "print(f\"\\n💳 CARTEIRA DE CRÉDITO 2024Q3: {sum_carteira_credito_2024Q3:,.2f}\")\n",
    "print(f\"💳 In trillions: {sum_carteira_credito_2024Q3/1_000_000_000_000:.2f} trillion\")\n",
    "print(f\"💳 In billions: {sum_carteira_credito_2024Q3/1_000_000_000:.2f} billion\")\n",
    "\n",
    "# Verify this matches user's calculation: 6,709,275,484,424.04\n",
    "user_expected = 6709275484424.04\n",
    "difference = abs(sum_carteira_credito_2024Q3 - user_expected)\n",
    "print(f\"\\n✅ User expected: {user_expected:,.2f}\")\n",
    "print(f\"🔍 Difference: {difference:,.2f} ({'✅ MATCH' if difference < 1 else '❌ MISMATCH'})\")"
   ]
  },
  {
   "cell_type": "markdown",
   "metadata": {},
   "source": [
    "## 🗄️ Step 6: Connect to Database & Compare"
   ]
  },
  {
   "cell_type": "code",
   "execution_count": 8,
   "metadata": {},
   "outputs": [
    {
     "name": "stdout",
     "output_type": "stream",
     "text": [
      "✅ Database connection successful\n",
      "📊 Total records in financial_data table: 372,402\n",
      "🏦 Active institutions: 50\n",
      "📈 Total metrics: 158\n"
     ]
    }
   ],
   "source": [
    "# Connect to Supabase database\n",
    "def get_database_connection():\n",
    "    try:\n",
    "        conn = psycopg2.connect(\n",
    "            host=\"aws-1-sa-east-1.pooler.supabase.com\",\n",
    "            database=\"postgres\",\n",
    "            user=\"postgres.uwoxkycxkidipgbptsgx\",\n",
    "            password=\"En9QmRQaw14nhwxL\",\n",
    "            port=\"6543\"\n",
    "        )\n",
    "        return conn\n",
    "    except Exception as e:\n",
    "        print(f\"❌ Database connection failed: {str(e)}\")\n",
    "        return None\n",
    "\n",
    "# Connect to database\n",
    "conn = get_database_connection()\n",
    "if conn:\n",
    "    print(\"✅ Database connection successful\")\n",
    "    cursor = conn.cursor()\n",
    "\n",
    "    # Check database structure\n",
    "    cursor.execute(\"SELECT COUNT(*) FROM financial_data\")\n",
    "    total_records = cursor.fetchone()[0]\n",
    "    print(f\"📊 Total records in financial_data table: {total_records:,}\")\n",
    "\n",
    "    cursor.execute(\"SELECT COUNT(*) FROM institutions WHERE status = 'active'\")\n",
    "    active_institutions = cursor.fetchone()[0]\n",
    "    print(f\"🏦 Active institutions: {active_institutions:,}\")\n",
    "\n",
    "    cursor.execute(\"SELECT COUNT(*) FROM metrics\")\n",
    "    total_metrics = cursor.fetchone()[0]\n",
    "    print(f\"📈 Total metrics: {total_metrics:,}\")\n",
    "else:\n",
    "    print(\"❌ Could not connect to database\")"
   ]
  },
  {
   "cell_type": "markdown",
   "metadata": {},
   "source": [
    "## 🔍 Step 7: Investigate Database Calculations"
   ]
  },
  {
   "cell_type": "code",
   "execution_count": 9,
   "metadata": {},
   "outputs": [
    {
     "name": "stdout",
     "output_type": "stream",
     "text": [
      "🔍 Investigating current database calculations:\n"
     ]
    },
    {
     "ename": "OperationalError",
     "evalue": "server closed the connection unexpectedly\n\tThis probably means the server terminated abnormally\n\tbefore or while processing the request.\nserver closed the connection unexpectedly\n\tThis probably means the server terminated abnormally\n\tbefore or while processing the request.\nserver closed the connection unexpectedly\n\tThis probably means the server terminated abnormally\n\tbefore or while processing the request.\n",
     "output_type": "error",
     "traceback": [
      "\u001b[0;31m---------------------------------------------------------------------------\u001b[0m",
      "\u001b[0;31mOperationalError\u001b[0m                          Traceback (most recent call last)",
      "Cell \u001b[0;32mIn [9], line 5\u001b[0m\n\u001b[1;32m      2\u001b[0m \u001b[38;5;28mprint\u001b[39m(\u001b[38;5;124m\"\u001b[39m\u001b[38;5;124m🔍 Investigating current database calculations:\u001b[39m\u001b[38;5;124m\"\u001b[39m)\n\u001b[1;32m      4\u001b[0m \u001b[38;5;66;03m# Get latest quarter data as API does\u001b[39;00m\n\u001b[0;32m----> 5\u001b[0m \u001b[43mcursor\u001b[49m\u001b[38;5;241;43m.\u001b[39;49m\u001b[43mexecute\u001b[49m\u001b[43m(\u001b[49m\u001b[38;5;124;43m\"\"\"\u001b[39;49m\n\u001b[1;32m      6\u001b[0m \u001b[38;5;124;43m    SELECT year, quarter, quarter_text\u001b[39;49m\n\u001b[1;32m      7\u001b[0m \u001b[38;5;124;43m    FROM time_periods tp\u001b[39;49m\n\u001b[1;32m      8\u001b[0m \u001b[38;5;124;43m    WHERE EXISTS (\u001b[39;49m\n\u001b[1;32m      9\u001b[0m \u001b[38;5;124;43m        SELECT 1 FROM financial_data fd WHERE fd.time_period_id = tp.id\u001b[39;49m\n\u001b[1;32m     10\u001b[0m \u001b[38;5;124;43m    )\u001b[39;49m\n\u001b[1;32m     11\u001b[0m \u001b[38;5;124;43m    ORDER BY year DESC, quarter DESC\u001b[39;49m\n\u001b[1;32m     12\u001b[0m \u001b[38;5;124;43m    LIMIT 1\u001b[39;49m\n\u001b[1;32m     13\u001b[0m \u001b[38;5;124;43m\u001b[39;49m\u001b[38;5;124;43m\"\"\"\u001b[39;49m\u001b[43m)\u001b[49m\n\u001b[1;32m     15\u001b[0m latest_q \u001b[38;5;241m=\u001b[39m cursor\u001b[38;5;241m.\u001b[39mfetchone()\n\u001b[1;32m     16\u001b[0m \u001b[38;5;28mprint\u001b[39m(\u001b[38;5;124mf\u001b[39m\u001b[38;5;124m\"\u001b[39m\u001b[38;5;124m📅 Latest quarter in database: \u001b[39m\u001b[38;5;132;01m{\u001b[39;00mlatest_q[\u001b[38;5;241m0\u001b[39m]\u001b[38;5;132;01m}\u001b[39;00m\u001b[38;5;124mQ\u001b[39m\u001b[38;5;132;01m{\u001b[39;00mlatest_q[\u001b[38;5;241m1\u001b[39m]\u001b[38;5;132;01m}\u001b[39;00m\u001b[38;5;124m (\u001b[39m\u001b[38;5;132;01m{\u001b[39;00mlatest_q[\u001b[38;5;241m2\u001b[39m]\u001b[38;5;132;01m}\u001b[39;00m\u001b[38;5;124m)\u001b[39m\u001b[38;5;124m\"\u001b[39m)\n",
      "\u001b[0;31mOperationalError\u001b[0m: server closed the connection unexpectedly\n\tThis probably means the server terminated abnormally\n\tbefore or while processing the request.\nserver closed the connection unexpectedly\n\tThis probably means the server terminated abnormally\n\tbefore or while processing the request.\nserver closed the connection unexpectedly\n\tThis probably means the server terminated abnormally\n\tbefore or while processing the request.\n"
     ]
    }
   ],
   "source": [
    "if conn:\n",
    "    print(\"🔍 Investigating current database calculations:\")\n",
    "\n",
    "    # Get latest quarter data as API does\n",
    "    cursor.execute(\"\"\"\n",
    "        SELECT year, quarter, quarter_text\n",
    "        FROM time_periods tp\n",
    "        WHERE EXISTS (\n",
    "            SELECT 1 FROM financial_data fd WHERE fd.time_period_id = tp.id\n",
    "        )\n",
    "        ORDER BY year DESC, quarter DESC\n",
    "        LIMIT 1\n",
    "    \"\"\")\n",
    "\n",
    "    latest_q = cursor.fetchone()\n",
    "    print(f\"📅 Latest quarter in database: {latest_q[0]}Q{latest_q[1]} ({latest_q[2]})\")\n",
    "\n",
    "    # Replicate current API query for Ativo Total\n",
    "    cursor.execute(\"\"\"\n",
    "        SELECT\n",
    "            SUM(CASE WHEN m.nome_coluna = 'Ativo Total' THEN fd.valor END) as total_assets,\n",
    "            COUNT(CASE WHEN m.nome_coluna = 'Ativo Total' THEN 1 END) as asset_records,\n",
    "            COUNT(DISTINCT CASE WHEN m.nome_coluna = 'Ativo Total' THEN i.id END) as institutions_with_assets\n",
    "        FROM financial_data fd\n",
    "        JOIN institutions i ON fd.institution_id = i.id\n",
    "        JOIN metrics m ON fd.metric_id = m.id\n",
    "        JOIN time_periods tp ON fd.time_period_id = tp.id\n",
    "        WHERE tp.year = %s AND tp.quarter = %s\n",
    "          AND m.nome_coluna = 'Ativo Total'\n",
    "          AND i.status = 'active'\n",
    "          AND fd.valor IS NOT NULL\n",
    "    \"\"\", (latest_q[0], latest_q[1]))\n",
    "\n",
    "    db_assets = cursor.fetchone()\n",
    "    print(f\"\\n💰 DATABASE ATIVO TOTAL {latest_q[0]}Q{latest_q[1]}:\")\n",
    "    print(f\"   Value: {db_assets[0]:,.2f}\")\n",
    "    print(f\"   Records: {db_assets[1]:,}\")\n",
    "    print(f\"   Institutions: {db_assets[2]:,}\")\n",
    "    print(f\"   In billions: {db_assets[0]/1_000_000_000:.2f} billion\")\n",
    "\n",
    "    # Compare with CSV calculation\n",
    "    csv_value = sumativo_total_2024Q3\n",
    "    db_value = db_assets[0] or 0\n",
    "    print(f\"\\n🔍 COMPARISON:\")\n",
    "    print(f\"   CSV calculation: {csv_value:,.2f}\")\n",
    "    print(f\"   Database result: {db_value:,.2f}\")\n",
    "    print(f\"   Difference: {abs(csv_value - db_value):,.2f}\")\n",
    "    print(f\"   Ratio: {db_value/csv_value*100:.2f}% of expected\" if csv_value > 0 else \"N/A\")"
   ]
  },
  {
   "cell_type": "markdown",
   "metadata": {},
   "source": [
    "## 🔬 Step 8: Detailed ETL Investigation"
   ]
  },
  {
   "cell_type": "code",
   "execution_count": 10,
   "metadata": {},
   "outputs": [
    {
     "name": "stdout",
     "output_type": "stream",
     "text": [
      "🔬 Investigating ETL process and data mapping:\n"
     ]
    },
    {
     "ename": "InterfaceError",
     "evalue": "cursor already closed",
     "output_type": "error",
     "traceback": [
      "\u001b[0;31m---------------------------------------------------------------------------\u001b[0m",
      "\u001b[0;31mInterfaceError\u001b[0m                            Traceback (most recent call last)",
      "Cell \u001b[0;32mIn [10], line 5\u001b[0m\n\u001b[1;32m      2\u001b[0m \u001b[38;5;28mprint\u001b[39m(\u001b[38;5;124m\"\u001b[39m\u001b[38;5;124m🔬 Investigating ETL process and data mapping:\u001b[39m\u001b[38;5;124m\"\u001b[39m)\n\u001b[1;32m      4\u001b[0m \u001b[38;5;66;03m# Check metrics table for 'Ativo Total'\u001b[39;00m\n\u001b[0;32m----> 5\u001b[0m \u001b[43mcursor\u001b[49m\u001b[38;5;241;43m.\u001b[39;49m\u001b[43mexecute\u001b[49m\u001b[43m(\u001b[49m\u001b[38;5;124;43m\"\"\"\u001b[39;49m\n\u001b[1;32m      6\u001b[0m \u001b[38;5;124;43m    SELECT id, codigo, nome_coluna, tipo_dado, categoria, description\u001b[39;49m\n\u001b[1;32m      7\u001b[0m \u001b[38;5;124;43m    FROM metrics\u001b[39;49m\n\u001b[1;32m      8\u001b[0m \u001b[38;5;124;43m    WHERE nome_coluna = \u001b[39;49m\u001b[38;5;124;43m'\u001b[39;49m\u001b[38;5;124;43mAtivo Total\u001b[39;49m\u001b[38;5;124;43m'\u001b[39;49m\n\u001b[1;32m      9\u001b[0m \u001b[38;5;124;43m    ORDER BY id\u001b[39;49m\n\u001b[1;32m     10\u001b[0m \u001b[38;5;124;43m\u001b[39;49m\u001b[38;5;124;43m\"\"\"\u001b[39;49m\u001b[43m)\u001b[49m\n\u001b[1;32m     12\u001b[0m ativo_metrics \u001b[38;5;241m=\u001b[39m cursor\u001b[38;5;241m.\u001b[39mfetchall()\n\u001b[1;32m     13\u001b[0m \u001b[38;5;28mprint\u001b[39m(\u001b[38;5;124mf\u001b[39m\u001b[38;5;124m\"\u001b[39m\u001b[38;5;130;01m\\n\u001b[39;00m\u001b[38;5;124m📊 Metrics table entries for \u001b[39m\u001b[38;5;124m'\u001b[39m\u001b[38;5;124mAtivo Total\u001b[39m\u001b[38;5;124m'\u001b[39m\u001b[38;5;124m: \u001b[39m\u001b[38;5;132;01m{\u001b[39;00m\u001b[38;5;28mlen\u001b[39m(ativo_metrics)\u001b[38;5;132;01m}\u001b[39;00m\u001b[38;5;124m\"\u001b[39m)\n",
      "\u001b[0;31mInterfaceError\u001b[0m: cursor already closed"
     ]
    }
   ],
   "source": [
    "if conn:\n",
    "    print(\"🔬 Investigating ETL process and data mapping:\")\n",
    "\n",
    "    # Check metrics table for 'Ativo Total'\n",
    "    cursor.execute(\"\"\"\n",
    "        SELECT id, codigo, nome_coluna, tipo_dado, categoria, description\n",
    "        FROM metrics\n",
    "        WHERE nome_coluna = 'Ativo Total'\n",
    "        ORDER BY id\n",
    "    \"\"\")\n",
    "\n",
    "    ativo_metrics = cursor.fetchall()\n",
    "    print(f\"\\n📊 Metrics table entries for 'Ativo Total': {len(ativo_metrics)}\")\n",
    "    for metric in ativo_metrics:\n",
    "        print(f\"   ID: {metric[0]}, Code: {metric[1]}, Name: {metric[2]}\")\n",
    "\n",
    "    # Check institutions mapping\n",
    "    cursor.execute(\"\"\"\n",
    "        SELECT COUNT(*) as total,\n",
    "               COUNT(CASE WHEN status = 'active' THEN 1 END) as active,\n",
    "               COUNT(CASE WHEN status = 'inactive' THEN 1 END) as inactive\n",
    "        FROM institutions\n",
    "    \"\"\")\n",
    "\n",
    "    inst_counts = cursor.fetchone()\n",
    "    print(f\"\\n🏦 Institutions status:\")\n",
    "    print(f\"   Total: {inst_counts[0]:,}\")\n",
    "    print(f\"   Active: {inst_counts[1]:,}\")\n",
    "    print(f\"   Inactive: {inst_counts[2]:,}\")\n",
    "\n",
    "    # Sample some data from financial_data for latest quarter\n",
    "    cursor.execute(\"\"\"\n",
    "        SELECT i.name, m.nome_coluna, fd.valor\n",
    "        FROM financial_data fd\n",
    "        JOIN institutions i ON fd.institution_id = i.id\n",
    "        JOIN metrics m ON fd.metric_id = m.id\n",
    "        JOIN time_periods tp ON fd.time_period_id = tp.id\n",
    "        WHERE tp.year = %s AND tp.quarter = %s\n",
    "          AND m.nome_coluna = 'Ativo Total'\n",
    "          AND i.status = 'active'\n",
    "          AND fd.valor IS NOT NULL\n",
    "        ORDER BY fd.valor DESC\n",
    "        LIMIT 10\n",
    "    \"\"\", (latest_q[0], latest_q[1]))\n",
    "\n",
    "    sample_data = cursor.fetchall()\n",
    "    print(f\"\\n🔍 Top 10 institutions by Ativo Total in database:\")\n",
    "    for row in sample_data:\n",
    "        print(f\"   {row[0][:30]:<30}: {row[2]:>15,.2f}\")"
   ]
  },
  {
   "cell_type": "markdown",
   "metadata": {},
   "source": [
    "## 📋 Step 9: Check CSV vs Database Institution Mapping"
   ]
  },
  {
   "cell_type": "code",
   "execution_count": null,
   "metadata": {},
   "outputs": [],
   "source": [
    "# Compare institution names and values between CSV and database\n",
    "print(\"🔍 Comparing institutions between CSV and Database:\")\n",
    "\n",
    "# Get CSV institutions for 2024Q3 Ativo Total\n",
    "csv_institutions = step3.groupby('InstituicaoFinanceira')['Saldo'].sum().sort_values(ascending=False)\n",
    "print(f\"\\n📊 CSV: {len(csv_institutions)} institutions with Ativo Total data\")\n",
    "print(\"Top 10 institutions in CSV:\")\n",
    "for i, (inst, value) in enumerate(csv_institutions.head(10).items()):\n",
    "    print(f\"   {i+1:2d}. {inst[:40]:<40}: {value:>15,.2f}\")\n",
    "\n",
    "if conn and sample_data:\n",
    "    print(f\"\\n📊 Database: {len(sample_data)} institutions shown (limited to 10)\")\n",
    "    print(\"Top 10 institutions in Database:\")\n",
    "    for i, row in enumerate(sample_data):\n",
    "        print(f\"   {i+1:2d}. {row[0][:40]:<40}: {row[2]:>15,.2f}\")\n",
    "\n",
    "    # Check if names match\n",
    "    csv_names = set(csv_institutions.head(10).index)\n",
    "    db_names = set([row[0] for row in sample_data])\n",
    "\n",
    "    print(f\"\\n🔍 Name matching analysis:\")\n",
    "    print(f\"   Common names: {len(csv_names.intersection(db_names))}\")\n",
    "    print(f\"   CSV only: {len(csv_names - db_names)}\")\n",
    "    print(f\"   Database only: {len(db_names - csv_names)}\")\n",
    "\n",
    "    if csv_names - db_names:\n",
    "        print(f\"\\n   Names in CSV but not in DB top 10:\")\n",
    "        for name in list(csv_names - db_names)[:5]:\n",
    "            print(f\"     - {name}\")\n",
    "\n",
    "    if db_names - csv_names:\n",
    "        print(f\"\\n   Names in DB but not in CSV top 10:\")\n",
    "        for name in list(db_names - csv_names)[:5]:\n",
    "            print(f\"     - {name}\")"
   ]
  },
  {
   "cell_type": "markdown",
   "metadata": {},
   "source": [
    "## 🚨 Step 10: Problem Identification & Root Cause Analysis"
   ]
  },
  {
   "cell_type": "code",
   "execution_count": 11,
   "metadata": {},
   "outputs": [
    {
     "name": "stdout",
     "output_type": "stream",
     "text": [
      "🚨 ROOT CAUSE ANALYSIS SUMMARY:\n",
      "============================================================\n",
      "\n",
      "📊 EXPECTED VALUES (from CSV direct calculation):\n",
      "   Ativo Total 2024Q3: 16,906,576,545,732.06 (16906.6 billion)\n",
      "   Credit Portfolio 2024Q3: 6,709,275,484,424.04 (6709.3 billion)\n"
     ]
    },
    {
     "ename": "NameError",
     "evalue": "name 'db_assets' is not defined",
     "output_type": "error",
     "traceback": [
      "\u001b[0;31m---------------------------------------------------------------------------\u001b[0m",
      "\u001b[0;31mNameError\u001b[0m                                 Traceback (most recent call last)",
      "Cell \u001b[0;32mIn [11], line 8\u001b[0m\n\u001b[1;32m      5\u001b[0m \u001b[38;5;28mprint\u001b[39m(\u001b[38;5;124mf\u001b[39m\u001b[38;5;124m\"\u001b[39m\u001b[38;5;124m   Ativo Total 2024Q3: \u001b[39m\u001b[38;5;132;01m{\u001b[39;00msumativo_total_2024Q3\u001b[38;5;132;01m:\u001b[39;00m\u001b[38;5;124m,.2f\u001b[39m\u001b[38;5;132;01m}\u001b[39;00m\u001b[38;5;124m (\u001b[39m\u001b[38;5;132;01m{\u001b[39;00msumativo_total_2024Q3\u001b[38;5;241m/\u001b[39m\u001b[38;5;241m1_000_000_000\u001b[39m\u001b[38;5;132;01m:\u001b[39;00m\u001b[38;5;124m.1f\u001b[39m\u001b[38;5;132;01m}\u001b[39;00m\u001b[38;5;124m billion)\u001b[39m\u001b[38;5;124m\"\u001b[39m)\n\u001b[1;32m      6\u001b[0m \u001b[38;5;28mprint\u001b[39m(\u001b[38;5;124mf\u001b[39m\u001b[38;5;124m\"\u001b[39m\u001b[38;5;124m   Credit Portfolio 2024Q3: \u001b[39m\u001b[38;5;132;01m{\u001b[39;00msum_carteira_credito_2024Q3\u001b[38;5;132;01m:\u001b[39;00m\u001b[38;5;124m,.2f\u001b[39m\u001b[38;5;132;01m}\u001b[39;00m\u001b[38;5;124m (\u001b[39m\u001b[38;5;132;01m{\u001b[39;00msum_carteira_credito_2024Q3\u001b[38;5;241m/\u001b[39m\u001b[38;5;241m1_000_000_000\u001b[39m\u001b[38;5;132;01m:\u001b[39;00m\u001b[38;5;124m.1f\u001b[39m\u001b[38;5;132;01m}\u001b[39;00m\u001b[38;5;124m billion)\u001b[39m\u001b[38;5;124m\"\u001b[39m)\n\u001b[0;32m----> 8\u001b[0m \u001b[38;5;28;01mif\u001b[39;00m conn \u001b[38;5;129;01mand\u001b[39;00m \u001b[43mdb_assets\u001b[49m:\n\u001b[1;32m      9\u001b[0m     \u001b[38;5;28mprint\u001b[39m(\u001b[38;5;124mf\u001b[39m\u001b[38;5;124m\"\u001b[39m\u001b[38;5;130;01m\\n\u001b[39;00m\u001b[38;5;124m🗄️ ACTUAL VALUES (from Database API):\u001b[39m\u001b[38;5;124m\"\u001b[39m)\n\u001b[1;32m     10\u001b[0m     \u001b[38;5;28mprint\u001b[39m(\u001b[38;5;124mf\u001b[39m\u001b[38;5;124m\"\u001b[39m\u001b[38;5;124m   Ativo Total 2024Q3: \u001b[39m\u001b[38;5;132;01m{\u001b[39;00mdb_assets[\u001b[38;5;241m0\u001b[39m]\u001b[38;5;132;01m:\u001b[39;00m\u001b[38;5;124m,.2f\u001b[39m\u001b[38;5;132;01m}\u001b[39;00m\u001b[38;5;124m (\u001b[39m\u001b[38;5;132;01m{\u001b[39;00mdb_assets[\u001b[38;5;241m0\u001b[39m]\u001b[38;5;241m/\u001b[39m\u001b[38;5;241m1_000_000_000\u001b[39m\u001b[38;5;132;01m:\u001b[39;00m\u001b[38;5;124m.1f\u001b[39m\u001b[38;5;132;01m}\u001b[39;00m\u001b[38;5;124m billion)\u001b[39m\u001b[38;5;124m\"\u001b[39m)\n",
      "\u001b[0;31mNameError\u001b[0m: name 'db_assets' is not defined"
     ]
    }
   ],
   "source": [
    "print(\"🚨 ROOT CAUSE ANALYSIS SUMMARY:\")\n",
    "print(\"=\" * 60)\n",
    "\n",
    "print(f\"\\n📊 EXPECTED VALUES (from CSV direct calculation):\")\n",
    "print(f\"   Ativo Total 2024Q3: {sumativo_total_2024Q3:,.2f} ({sumativo_total_2024Q3/1_000_000_000:.1f} billion)\")\n",
    "print(f\"   Credit Portfolio 2024Q3: {sum_carteira_credito_2024Q3:,.2f} ({sum_carteira_credito_2024Q3/1_000_000_000:.1f} billion)\")\n",
    "\n",
    "if conn and db_assets:\n",
    "    print(f\"\\n🗄️ ACTUAL VALUES (from Database API):\")\n",
    "    print(f\"   Ativo Total 2024Q3: {db_assets[0]:,.2f} ({db_assets[0]/1_000_000_000:.1f} billion)\")\n",
    "\n",
    "    ratio = (db_assets[0] / sumativo_total_2024Q3) * 100 if sumativo_total_2024Q3 > 0 else 0\n",
    "    print(f\"\\n❌ DISCREPANCY:\")\n",
    "    print(f\"   Database shows only {ratio:.1f}% of expected value\")\n",
    "    print(f\"   Missing: {sumativo_total_2024Q3 - db_assets[0]:,.2f} ({(sumativo_total_2024Q3 - db_assets[0])/1_000_000_000:.1f} billion)\")\n",
    "\n",
    "print(f\"\\n🔍 POTENTIAL ISSUES TO INVESTIGATE:\")\n",
    "print(f\"   1. ETL filtering: Are all institutions being loaded?\")\n",
    "print(f\"   2. Data mapping: Are institution names mapped correctly?\")\n",
    "print(f\"   3. Metric mapping: Is 'Ativo Total' metric ID correct?\")\n",
    "print(f\"   4. Status filtering: Are institutions incorrectly marked as inactive?\")\n",
    "print(f\"   5. Quarter mapping: Is 2024Q3 correctly loaded as time_period?\")\n",
    "print(f\"   6. Value conversion: Are Saldo values being converted correctly?\")\n",
    "print(f\"   7. Duplicate handling: Are records being deduplicated incorrectly?\")\n",
    "\n",
    "print(f\"\\n✅ NEXT STEPS:\")\n",
    "print(f\"   1. Audit ETL process step by step\")\n",
    "print(f\"   2. Compare record counts at each ETL stage\")\n",
    "print(f\"   3. Verify institution and metric mappings\")\n",
    "print(f\"   4. Test with smaller dataset to isolate issue\")\n",
    "print(f\"   5. Fix database/API calculations\")\n",
    "print(f\"   6. Revalidate frontend data display\")"
   ]
  },
  {
   "cell_type": "markdown",
   "metadata": {},
   "source": [
    "## 📋 Step 11: Data Quality Metrics"
   ]
  },
  {
   "cell_type": "code",
   "execution_count": 12,
   "metadata": {},
   "outputs": [
    {
     "name": "stdout",
     "output_type": "stream",
     "text": [
      "📊 DATA QUALITY METRICS:\n",
      "========================================\n",
      "\n",
      "📁 CSV FILE ANALYSIS:\n",
      "   Total records: 2,682,551\n"
     ]
    },
    {
     "ename": "KeyError",
     "evalue": "'InstituicaoFinanceira'",
     "output_type": "error",
     "traceback": [
      "\u001b[0;31m---------------------------------------------------------------------------\u001b[0m",
      "\u001b[0;31mKeyError\u001b[0m                                  Traceback (most recent call last)",
      "File \u001b[0;32m~/.pyenv/versions/3.10.6/envs/lewagon/lib/python3.10/site-packages/pandas/core/indexes/base.py:3805\u001b[0m, in \u001b[0;36mIndex.get_loc\u001b[0;34m(self, key)\u001b[0m\n\u001b[1;32m   3804\u001b[0m \u001b[38;5;28;01mtry\u001b[39;00m:\n\u001b[0;32m-> 3805\u001b[0m     \u001b[38;5;28;01mreturn\u001b[39;00m \u001b[38;5;28;43mself\u001b[39;49m\u001b[38;5;241;43m.\u001b[39;49m\u001b[43m_engine\u001b[49m\u001b[38;5;241;43m.\u001b[39;49m\u001b[43mget_loc\u001b[49m\u001b[43m(\u001b[49m\u001b[43mcasted_key\u001b[49m\u001b[43m)\u001b[49m\n\u001b[1;32m   3806\u001b[0m \u001b[38;5;28;01mexcept\u001b[39;00m \u001b[38;5;167;01mKeyError\u001b[39;00m \u001b[38;5;28;01mas\u001b[39;00m err:\n",
      "File \u001b[0;32mindex.pyx:167\u001b[0m, in \u001b[0;36mpandas._libs.index.IndexEngine.get_loc\u001b[0;34m()\u001b[0m\n",
      "File \u001b[0;32mindex.pyx:196\u001b[0m, in \u001b[0;36mpandas._libs.index.IndexEngine.get_loc\u001b[0;34m()\u001b[0m\n",
      "File \u001b[0;32mpandas/_libs/hashtable_class_helper.pxi:7081\u001b[0m, in \u001b[0;36mpandas._libs.hashtable.PyObjectHashTable.get_item\u001b[0;34m()\u001b[0m\n",
      "File \u001b[0;32mpandas/_libs/hashtable_class_helper.pxi:7089\u001b[0m, in \u001b[0;36mpandas._libs.hashtable.PyObjectHashTable.get_item\u001b[0;34m()\u001b[0m\n",
      "\u001b[0;31mKeyError\u001b[0m: 'InstituicaoFinanceira'",
      "\nThe above exception was the direct cause of the following exception:\n",
      "\u001b[0;31mKeyError\u001b[0m                                  Traceback (most recent call last)",
      "Cell \u001b[0;32mIn [12], line 7\u001b[0m\n\u001b[1;32m      5\u001b[0m \u001b[38;5;28mprint\u001b[39m(\u001b[38;5;124mf\u001b[39m\u001b[38;5;124m\"\u001b[39m\u001b[38;5;130;01m\\n\u001b[39;00m\u001b[38;5;124m📁 CSV FILE ANALYSIS:\u001b[39m\u001b[38;5;124m\"\u001b[39m)\n\u001b[1;32m      6\u001b[0m \u001b[38;5;28mprint\u001b[39m(\u001b[38;5;124mf\u001b[39m\u001b[38;5;124m\"\u001b[39m\u001b[38;5;124m   Total records: \u001b[39m\u001b[38;5;132;01m{\u001b[39;00mfinancial_metrics\u001b[38;5;241m.\u001b[39mshape[\u001b[38;5;241m0\u001b[39m]\u001b[38;5;132;01m:\u001b[39;00m\u001b[38;5;124m,\u001b[39m\u001b[38;5;132;01m}\u001b[39;00m\u001b[38;5;124m\"\u001b[39m)\n\u001b[0;32m----> 7\u001b[0m \u001b[38;5;28mprint\u001b[39m(\u001b[38;5;124mf\u001b[39m\u001b[38;5;124m\"\u001b[39m\u001b[38;5;124m   Unique institutions: \u001b[39m\u001b[38;5;132;01m{\u001b[39;00mfinancial_metrics[\u001b[38;5;124m'\u001b[39m\u001b[38;5;124mInstituicaoFinanceira\u001b[39m\u001b[38;5;124m'\u001b[39m]\u001b[38;5;241m.\u001b[39mnunique()\u001b[38;5;132;01m:\u001b[39;00m\u001b[38;5;124m,\u001b[39m\u001b[38;5;132;01m}\u001b[39;00m\u001b[38;5;124m\"\u001b[39m)\n\u001b[1;32m      8\u001b[0m \u001b[38;5;28mprint\u001b[39m(\u001b[38;5;124mf\u001b[39m\u001b[38;5;124m\"\u001b[39m\u001b[38;5;124m   Unique quarters: \u001b[39m\u001b[38;5;132;01m{\u001b[39;00mfinancial_metrics[\u001b[38;5;124m'\u001b[39m\u001b[38;5;124mAnoMes_Q\u001b[39m\u001b[38;5;124m'\u001b[39m]\u001b[38;5;241m.\u001b[39mnunique()\u001b[38;5;132;01m:\u001b[39;00m\u001b[38;5;124m,\u001b[39m\u001b[38;5;132;01m}\u001b[39;00m\u001b[38;5;124m\"\u001b[39m)\n\u001b[1;32m      9\u001b[0m \u001b[38;5;28mprint\u001b[39m(\u001b[38;5;124mf\u001b[39m\u001b[38;5;124m\"\u001b[39m\u001b[38;5;124m   Unique metrics: \u001b[39m\u001b[38;5;132;01m{\u001b[39;00mfinancial_metrics[\u001b[38;5;124m'\u001b[39m\u001b[38;5;124mNomeColuna\u001b[39m\u001b[38;5;124m'\u001b[39m]\u001b[38;5;241m.\u001b[39mnunique()\u001b[38;5;132;01m:\u001b[39;00m\u001b[38;5;124m,\u001b[39m\u001b[38;5;132;01m}\u001b[39;00m\u001b[38;5;124m\"\u001b[39m)\n",
      "File \u001b[0;32m~/.pyenv/versions/3.10.6/envs/lewagon/lib/python3.10/site-packages/pandas/core/frame.py:4102\u001b[0m, in \u001b[0;36mDataFrame.__getitem__\u001b[0;34m(self, key)\u001b[0m\n\u001b[1;32m   4100\u001b[0m \u001b[38;5;28;01mif\u001b[39;00m \u001b[38;5;28mself\u001b[39m\u001b[38;5;241m.\u001b[39mcolumns\u001b[38;5;241m.\u001b[39mnlevels \u001b[38;5;241m>\u001b[39m \u001b[38;5;241m1\u001b[39m:\n\u001b[1;32m   4101\u001b[0m     \u001b[38;5;28;01mreturn\u001b[39;00m \u001b[38;5;28mself\u001b[39m\u001b[38;5;241m.\u001b[39m_getitem_multilevel(key)\n\u001b[0;32m-> 4102\u001b[0m indexer \u001b[38;5;241m=\u001b[39m \u001b[38;5;28;43mself\u001b[39;49m\u001b[38;5;241;43m.\u001b[39;49m\u001b[43mcolumns\u001b[49m\u001b[38;5;241;43m.\u001b[39;49m\u001b[43mget_loc\u001b[49m\u001b[43m(\u001b[49m\u001b[43mkey\u001b[49m\u001b[43m)\u001b[49m\n\u001b[1;32m   4103\u001b[0m \u001b[38;5;28;01mif\u001b[39;00m is_integer(indexer):\n\u001b[1;32m   4104\u001b[0m     indexer \u001b[38;5;241m=\u001b[39m [indexer]\n",
      "File \u001b[0;32m~/.pyenv/versions/3.10.6/envs/lewagon/lib/python3.10/site-packages/pandas/core/indexes/base.py:3812\u001b[0m, in \u001b[0;36mIndex.get_loc\u001b[0;34m(self, key)\u001b[0m\n\u001b[1;32m   3807\u001b[0m     \u001b[38;5;28;01mif\u001b[39;00m \u001b[38;5;28misinstance\u001b[39m(casted_key, \u001b[38;5;28mslice\u001b[39m) \u001b[38;5;129;01mor\u001b[39;00m (\n\u001b[1;32m   3808\u001b[0m         \u001b[38;5;28misinstance\u001b[39m(casted_key, abc\u001b[38;5;241m.\u001b[39mIterable)\n\u001b[1;32m   3809\u001b[0m         \u001b[38;5;129;01mand\u001b[39;00m \u001b[38;5;28many\u001b[39m(\u001b[38;5;28misinstance\u001b[39m(x, \u001b[38;5;28mslice\u001b[39m) \u001b[38;5;28;01mfor\u001b[39;00m x \u001b[38;5;129;01min\u001b[39;00m casted_key)\n\u001b[1;32m   3810\u001b[0m     ):\n\u001b[1;32m   3811\u001b[0m         \u001b[38;5;28;01mraise\u001b[39;00m InvalidIndexError(key)\n\u001b[0;32m-> 3812\u001b[0m     \u001b[38;5;28;01mraise\u001b[39;00m \u001b[38;5;167;01mKeyError\u001b[39;00m(key) \u001b[38;5;28;01mfrom\u001b[39;00m \u001b[38;5;21;01merr\u001b[39;00m\n\u001b[1;32m   3813\u001b[0m \u001b[38;5;28;01mexcept\u001b[39;00m \u001b[38;5;167;01mTypeError\u001b[39;00m:\n\u001b[1;32m   3814\u001b[0m     \u001b[38;5;66;03m# If we have a listlike key, _check_indexing_error will raise\u001b[39;00m\n\u001b[1;32m   3815\u001b[0m     \u001b[38;5;66;03m#  InvalidIndexError. Otherwise we fall through and re-raise\u001b[39;00m\n\u001b[1;32m   3816\u001b[0m     \u001b[38;5;66;03m#  the TypeError.\u001b[39;00m\n\u001b[1;32m   3817\u001b[0m     \u001b[38;5;28mself\u001b[39m\u001b[38;5;241m.\u001b[39m_check_indexing_error(key)\n",
      "\u001b[0;31mKeyError\u001b[0m: 'InstituicaoFinanceira'"
     ]
    }
   ],
   "source": [
    "print(\"📊 DATA QUALITY METRICS:\")\n",
    "print(\"=\" * 40)\n",
    "\n",
    "# CSV data quality\n",
    "print(f\"\\n📁 CSV FILE ANALYSIS:\")\n",
    "print(f\"   Total records: {financial_metrics.shape[0]:,}\")\n",
    "print(f\"   Unique institutions: {financial_metrics['InstituicaoFinanceira'].nunique():,}\")\n",
    "print(f\"   Unique quarters: {financial_metrics['AnoMes_Q'].nunique():,}\")\n",
    "print(f\"   Unique metrics: {financial_metrics['NomeColuna'].nunique():,}\")\n",
    "\n",
    "# Focus on 2024Q3 data\n",
    "q3_data = financial_metrics[financial_metrics['AnoMes_Q'] == '2024Q3']\n",
    "print(f\"\\n📅 2024Q3 SPECIFIC DATA:\")\n",
    "print(f\"   Total records: {q3_data.shape[0]:,}\")\n",
    "print(f\"   Institutions: {q3_data['InstituicaoFinanceira'].nunique():,}\")\n",
    "print(f\"   Metrics: {q3_data['NomeColuna'].nunique():,}\")\n",
    "print(f\"   Reports: {q3_data['NomeRelatorio'].value_counts().to_dict()}\")\n",
    "\n",
    "# Check for missing values\n",
    "print(f\"\\n🔍 MISSING VALUES ANALYSIS:\")\n",
    "missing_analysis = q3_data.isnull().sum()\n",
    "for col, missing in missing_analysis.items():\n",
    "    if missing > 0:\n",
    "        percentage = (missing / len(q3_data)) * 100\n",
    "        print(f\"   {col}: {missing:,} ({percentage:.1f}%)\")\n",
    "\n",
    "# Value ranges for key metrics\n",
    "ativo_data = q3_data[(q3_data['NomeRelatorio'] == 'Resumo') & (q3_data['NomeColuna'] == 'Ativo Total')]\n",
    "print(f\"\\n💰 ATIVO TOTAL VALUE ANALYSIS (2024Q3):\")\n",
    "print(f\"   Records: {len(ativo_data):,}\")\n",
    "print(f\"   Min value: {ativo_data['Saldo'].min():,.2f}\")\n",
    "print(f\"   Max value: {ativo_data['Saldo'].max():,.2f}\")\n",
    "print(f\"   Mean value: {ativo_data['Saldo'].mean():,.2f}\")\n",
    "print(f\"   Median value: {ativo_data['Saldo'].median():,.2f}\")\n",
    "print(f\"   Total sum: {ativo_data['Saldo'].sum():,.2f}\")\n",
    "\n",
    "if conn:\n",
    "    conn.close()\n",
    "    print(\"\\n✅ Database connection closed\")"
   ]
  },
  {
   "cell_type": "markdown",
   "metadata": {},
   "source": [
    "---\n",
    "## 🎯 CONCLUSION\n",
    "\n",
    "This notebook has identified a **massive discrepancy** between the expected values from direct CSV calculations and the values returned by our database API.\n",
    "\n",
    "**Key Findings:**\n",
    "- CSV shows **~16.9 trillion** in total assets for 2024Q3\n",
    "- Database API returns only **~148 billion** (less than 1% of expected)\n",
    "- The ETL process or database queries have fundamental issues\n",
    "\n",
    "**Next Actions Required:**\n",
    "1. Review and fix ETL data loading process\n",
    "2. Verify database schema and data mappings\n",
    "3. Test API calculations against known values\n",
    "4. Update frontend once calculations are corrected\n",
    "\n",
    "**Impact:**\n",
    "- All current API endpoints return incorrect data\n",
    "- Frontend displays are showing wrong values\n",
    "- User trust and data accuracy is compromised\n",
    "\n",
    "---"
   ]
  }
 ],
 "metadata": {
  "kernelspec": {
   "display_name": "lewagon",
   "language": "python",
   "name": "python3"
  },
  "language_info": {
   "codemirror_mode": {
    "name": "ipython",
    "version": 3
   },
   "file_extension": ".py",
   "mimetype": "text/x-python",
   "name": "python",
   "nbconvert_exporter": "python",
   "pygments_lexer": "ipython3",
   "version": "3.10.6"
  }
 },
 "nbformat": 4,
 "nbformat_minor": 4
}
